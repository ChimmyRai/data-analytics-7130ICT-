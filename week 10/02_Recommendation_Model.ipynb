{
  "cells": [
    {
      "cell_type": "markdown",
      "metadata": {
        "id": "eJXFL7YfJwi-"
      },
      "source": [
        "# Recommendation - Model 🍿"
      ]
    },
    {
      "cell_type": "markdown",
      "metadata": {
        "id": "noLOu6ZnJwjC"
      },
      "source": [
        "---"
      ]
    },
    {
      "cell_type": "markdown",
      "metadata": {
        "id": "a7kw12CwJwjC"
      },
      "source": [
        "<img src=\"https://visithrastnik.si/uploads/tic/public/generic_list_item/6-kulturna_prireditev_v_avli_kulturnega_centra_zagorje_ob_savi.jpg\" />"
      ]
    },
    {
      "cell_type": "markdown",
      "metadata": {
        "id": "1G-JLY0jJwjD"
      },
      "source": [
        "---"
      ]
    },
    {
      "cell_type": "code",
      "source": [
        "!pip install lightfm\n"
      ],
      "metadata": {
        "colab": {
          "base_uri": "https://localhost:8080/"
        },
        "id": "YlE5kWGcKcoo",
        "outputId": "e5bea9d4-b55f-4ac8-c2b7-6ab996333b8c"
      },
      "execution_count": 9,
      "outputs": [
        {
          "output_type": "stream",
          "name": "stdout",
          "text": [
            "Looking in indexes: https://pypi.org/simple, https://us-python.pkg.dev/colab-wheels/public/simple/\n",
            "Collecting lightfm\n",
            "  Downloading lightfm-1.17.tar.gz (316 kB)\n",
            "\u001b[2K     \u001b[90m━━━━━━━━━━━━━━━━━━━━━━━━━━━━━━━━━━━━━━\u001b[0m \u001b[32m316.4/316.4 kB\u001b[0m \u001b[31m14.2 MB/s\u001b[0m eta \u001b[36m0:00:00\u001b[0m\n",
            "\u001b[?25h  Preparing metadata (setup.py) ... \u001b[?25l\u001b[?25hdone\n",
            "Requirement already satisfied: numpy in /usr/local/lib/python3.10/dist-packages (from lightfm) (1.22.4)\n",
            "Requirement already satisfied: scipy>=0.17.0 in /usr/local/lib/python3.10/dist-packages (from lightfm) (1.10.1)\n",
            "Requirement already satisfied: requests in /usr/local/lib/python3.10/dist-packages (from lightfm) (2.27.1)\n",
            "Requirement already satisfied: scikit-learn in /usr/local/lib/python3.10/dist-packages (from lightfm) (1.2.2)\n",
            "Requirement already satisfied: urllib3<1.27,>=1.21.1 in /usr/local/lib/python3.10/dist-packages (from requests->lightfm) (1.26.15)\n",
            "Requirement already satisfied: certifi>=2017.4.17 in /usr/local/lib/python3.10/dist-packages (from requests->lightfm) (2022.12.7)\n",
            "Requirement already satisfied: charset-normalizer~=2.0.0 in /usr/local/lib/python3.10/dist-packages (from requests->lightfm) (2.0.12)\n",
            "Requirement already satisfied: idna<4,>=2.5 in /usr/local/lib/python3.10/dist-packages (from requests->lightfm) (3.4)\n",
            "Requirement already satisfied: joblib>=1.1.1 in /usr/local/lib/python3.10/dist-packages (from scikit-learn->lightfm) (1.2.0)\n",
            "Requirement already satisfied: threadpoolctl>=2.0.0 in /usr/local/lib/python3.10/dist-packages (from scikit-learn->lightfm) (3.1.0)\n",
            "Building wheels for collected packages: lightfm\n",
            "  Building wheel for lightfm (setup.py) ... \u001b[?25l\u001b[?25hdone\n",
            "  Created wheel for lightfm: filename=lightfm-1.17-cp310-cp310-linux_x86_64.whl size=867254 sha256=14bd47e4bf25c1b9dda241f156872f9411e4d70a494c43473828cd77ef924520\n",
            "  Stored in directory: /root/.cache/pip/wheels/4f/9b/7e/0b256f2168511d8fa4dae4fae0200fdbd729eb424a912ad636\n",
            "Successfully built lightfm\n",
            "Installing collected packages: lightfm\n",
            "Successfully installed lightfm-1.17\n"
          ]
        }
      ]
    },
    {
      "cell_type": "markdown",
      "metadata": {
        "id": "bvfPF9TeJwjD"
      },
      "source": [
        "Now, time for the exciting part! We will train a Machine Learning model based on our previous **ratings** sparse matrix, so that it creates a recommendation engine automatically! "
      ]
    },
    {
      "cell_type": "markdown",
      "metadata": {
        "id": "F0k2RwKmJwjD"
      },
      "source": [
        "First, load again the dataframe `movies` and `ratings`"
      ]
    },
    {
      "cell_type": "code",
      "execution_count": 6,
      "metadata": {
        "colab": {
          "base_uri": "https://localhost:8080/"
        },
        "id": "Bjgedpb-JwjE",
        "outputId": "bf9ebd74-aa44-4e89-91f9-12b819567cf8"
      },
      "outputs": [
        {
          "output_type": "stream",
          "name": "stdout",
          "text": [
            "   movieId                               title  \\\n",
            "0        1                    Toy Story (1995)   \n",
            "1        2                      Jumanji (1995)   \n",
            "2        3             Grumpier Old Men (1995)   \n",
            "3        4            Waiting to Exhale (1995)   \n",
            "4        5  Father of the Bride Part II (1995)   \n",
            "\n",
            "                                        genres  \n",
            "0  Adventure|Animation|Children|Comedy|Fantasy  \n",
            "1                   Adventure|Children|Fantasy  \n",
            "2                               Comedy|Romance  \n",
            "3                         Comedy|Drama|Romance  \n",
            "4                                       Comedy  \n",
            "   userId  movieId  rating  timestamp\n",
            "0       1        1     4.0  964982703\n",
            "1       1        3     4.0  964981247\n",
            "2       1        6     4.0  964982224\n",
            "3       1       47     5.0  964983815\n",
            "4       1       50     5.0  964982931\n"
          ]
        }
      ],
      "source": [
        "### TODO: load the movies and ratings datasets\n",
        "import pandas as pd\n",
        "movies=pd.read_csv(\"ml-latest-small/movies.csv\")\n",
        "ratings=pd.read_csv(\"ml-latest-small/ratings.csv\")\n",
        "print(movies.head())\n",
        "print(ratings.head())"
      ]
    },
    {
      "cell_type": "markdown",
      "metadata": {
        "id": "D-KRvnOzJwjG"
      },
      "source": [
        "**Q1**. Start by loading all the pickle you saved during last challenge: `ratings_matrix`, `idx_to_mid`, `mid_to_idx`, `uid_to_idx`, `idx_to_uid`"
      ]
    },
    {
      "cell_type": "code",
      "execution_count": 7,
      "metadata": {
        "id": "UEtehfwcJwjG"
      },
      "outputs": [],
      "source": [
        "import pickle\n",
        "ratings_matrix=pickle.load(open('data/ratings_matrix.pkl','rb'))\n",
        "idx_to_mid=pickle.load(open('data/idx_to_mid.pkl','rb'))\n",
        "mid_to_idx=pickle.load(open('data/mid_to_idx.pkl','rb'))\n",
        "uid_to_idx=pickle.load(open('data/uid_to_idx.pkl','rb'))\n",
        "idx_to_uid=pickle.load(open('data/idx_to_uid.pkl','rb'))"
      ]
    },
    {
      "cell_type": "markdown",
      "metadata": {
        "id": "qtNwyQzQJwjH"
      },
      "source": [
        "**Q2**. Because the dataset is slightly different from what we have been used to (X as features, y as target), the usual `train_test_split` method from scikit-learn does not apply.\n",
        "\n",
        "Hopefully, `lightfm` comes with a `random_train_test_split` located into `cross_validation` dedicated to this usecase 🙂\n",
        "\n",
        "Split the data randomly into a `train` matrix and a `test` matrix with 20% of interactions into the test set."
      ]
    },
    {
      "cell_type": "code",
      "execution_count": 11,
      "metadata": {
        "id": "O_CWJUHtJwjI"
      },
      "outputs": [],
      "source": [
        "import numpy as np\n",
        "from lightfm.cross_validation import random_train_test_split\n",
        "train,test=random_train_test_split(ratings_matrix,test_percentage=0.2)"
      ]
    },
    {
      "cell_type": "markdown",
      "metadata": {
        "id": "8RyXehJTJwjJ"
      },
      "source": [
        "**Q3**. Train a LightFM model for 10 epochs. You can use the parameter `loss=\"warp\"`."
      ]
    },
    {
      "cell_type": "code",
      "execution_count": 12,
      "metadata": {
        "scrolled": true,
        "colab": {
          "base_uri": "https://localhost:8080/"
        },
        "id": "1QxlasyoJwjL",
        "outputId": "a30dff02-17fa-48ac-857a-252a0bd4935a"
      },
      "outputs": [
        {
          "output_type": "stream",
          "name": "stderr",
          "text": [
            "Epoch: 100%|██████████| 10/10 [00:02<00:00,  3.49it/s]\n"
          ]
        },
        {
          "output_type": "execute_result",
          "data": {
            "text/plain": [
              "<lightfm.lightfm.LightFM at 0x7f3e7e35fe80>"
            ]
          },
          "metadata": {},
          "execution_count": 12
        }
      ],
      "source": [
        "from lightfm import LightFM\n",
        "model=LightFM(no_components=100,loss=\"warp\",random_state=0)\n",
        "model.fit(train,epochs=10, verbose=True)\n"
      ]
    },
    {
      "cell_type": "markdown",
      "metadata": {
        "id": "CFac_-ErJwjM"
      },
      "source": [
        "**Q4**. Evaluate your model on your test set. You can use the `precision_at_k` metric implemented in the LightFM library."
      ]
    },
    {
      "cell_type": "code",
      "execution_count": 13,
      "metadata": {
        "colab": {
          "base_uri": "https://localhost:8080/"
        },
        "id": "oOGgWT6fJwjN",
        "outputId": "4c97ed3e-acaa-43b3-b3ae-a36ed0f359e3"
      },
      "outputs": [
        {
          "output_type": "stream",
          "name": "stdout",
          "text": [
            "precision at 5 is: 0.27783254\n"
          ]
        }
      ],
      "source": [
        "from lightfm.evaluation import precision_at_k\n",
        "k=5\n",
        "precision_k=precision_at_k(model, test, train, k=k).mean()\n",
        "print(\"precision at\",k,\"is:\",precision_k)\n"
      ]
    },
    {
      "cell_type": "markdown",
      "metadata": {
        "id": "hcNylIFxJwjN"
      },
      "source": [
        "**Q5**. What does the attribute `item_embeddings` of `model` contains?  This will be the heart of your recommendation engine! 💟 So make sure you understand fully what it contains."
      ]
    },
    {
      "cell_type": "code",
      "execution_count": 14,
      "metadata": {
        "colab": {
          "base_uri": "https://localhost:8080/"
        },
        "id": "lM826j-OJwjO",
        "outputId": "c8ec900f-3e92-4609-f834-7f8a9e0090fe"
      },
      "outputs": [
        {
          "output_type": "stream",
          "name": "stdout",
          "text": [
            "(3650, 100)\n"
          ]
        }
      ],
      "source": [
        "print(model.item_embeddings.shape)"
      ]
    },
    {
      "cell_type": "code",
      "source": [
        "It contians the number of movies(3650) and the number of components (100)"
      ],
      "metadata": {
        "id": "aGqQKsMnNRcg",
        "colab": {
          "base_uri": "https://localhost:8080/",
          "height": 130
        },
        "outputId": "f604b269-b1b0-4f9b-a1c4-6a8668ad771e"
      },
      "execution_count": 15,
      "outputs": [
        {
          "output_type": "error",
          "ename": "SyntaxError",
          "evalue": "ignored",
          "traceback": [
            "\u001b[0;36m  File \u001b[0;32m\"<ipython-input-15-d3fa4a0909aa>\"\u001b[0;36m, line \u001b[0;32m1\u001b[0m\n\u001b[0;31m    It contians the number of movies(3650) and the number of components (100)\u001b[0m\n\u001b[0m       ^\u001b[0m\n\u001b[0;31mSyntaxError\u001b[0m\u001b[0;31m:\u001b[0m invalid syntax\n"
          ]
        }
      ]
    },
    {
      "cell_type": "markdown",
      "metadata": {
        "id": "ZtaMo3-jJwjO"
      },
      "source": [
        "**Q6**. We just trained a model that factorized our ratings matrix into a U matrix of shape (n_users, no_components) : `model.user_embeddings` ; and V matrix of shape (n_movies, no_components) : `model.item_embeddings`).\n",
        "\n",
        "Now we want to compute **similarity between each pair of movies**.\n",
        "\n",
        "> 🔦 **Hint**: For the similarity distance we can either use `cosine_similarity` function or `pearson_similarity`:\n",
        "> - **Cosine similarity** between two vectors, or matrices X and Y is given by:\n",
        "> ``` python\n",
        "> from sklearn.metrics.pairwise import cosine_similarity\n",
        "> cosine_similarity(X, Y)\n",
        "> ```\n",
        "> - **Pearson similarity** between two vectors, or matrices X and Y is given by:\n",
        "> ``` python\n",
        "> import numpy as np\n",
        "> np.corrcoef(X, Y)\n",
        "> ```\n",
        "\n",
        "Compute the `similarity_scores` of size (n_movies, n_movies), containing for each element (i, j) the similarity between movie of index i and movie of index j."
      ]
    },
    {
      "cell_type": "code",
      "source": [
        "from sklearn.metrics.pairwise import cosine_similarity\n",
        "similarity_scores=cosine_similarity(model.item_embeddings)\n",
        "print(similarity_scores.shape)\n",
        "similarity_scores"
      ],
      "metadata": {
        "colab": {
          "base_uri": "https://localhost:8080/"
        },
        "id": "oH_Zf7fMPqW9",
        "outputId": "991c993d-65d2-4fdd-9e7a-2ca5484a5661"
      },
      "execution_count": 16,
      "outputs": [
        {
          "output_type": "stream",
          "name": "stdout",
          "text": [
            "(3650, 3650)\n"
          ]
        },
        {
          "output_type": "execute_result",
          "data": {
            "text/plain": [
              "array([[ 1.        ,  0.46697652,  0.21974115, ..., -0.3195277 ,\n",
              "        -0.09163348, -0.22818698],\n",
              "       [ 0.46697652,  1.0000001 ,  0.2787885 , ..., -0.40869108,\n",
              "        -0.2217182 ,  0.03891685],\n",
              "       [ 0.21974115,  0.2787885 ,  1.0000001 , ..., -0.37936372,\n",
              "        -0.4204208 ,  0.0308933 ],\n",
              "       ...,\n",
              "       [-0.3195277 , -0.40869108, -0.37936372, ...,  0.99999994,\n",
              "         0.6500985 , -0.13810055],\n",
              "       [-0.09163348, -0.2217182 , -0.4204208 , ...,  0.6500985 ,\n",
              "         1.0000001 , -0.35016114],\n",
              "       [-0.22818698,  0.03891685,  0.0308933 , ..., -0.13810055,\n",
              "        -0.35016114,  1.        ]], dtype=float32)"
            ]
          },
          "metadata": {},
          "execution_count": 16
        }
      ]
    },
    {
      "cell_type": "markdown",
      "metadata": {
        "id": "1SbOJV-iJwjV"
      },
      "source": [
        "**Q7**. For movie of idx 20, what are the idx of the 10 most similar movies?"
      ]
    },
    {
      "cell_type": "code",
      "execution_count": 17,
      "metadata": {
        "colab": {
          "base_uri": "https://localhost:8080/"
        },
        "id": "5d0NDILpJwjW",
        "outputId": "df4626bd-a632-4264-dbd4-62890e4e7489"
      },
      "outputs": [
        {
          "output_type": "stream",
          "name": "stdout",
          "text": [
            "314    Forrest Gump (1994)\n",
            "Name: title, dtype: object\n",
            "277    Shawshank Redemption, The (1994)\n",
            "Name: title, dtype: object\n",
            "945    Dead Poets Society (1989)\n",
            "Name: title, dtype: object\n",
            "322    Lion King, The (1994)\n",
            "Name: title, dtype: object\n",
            "418    Jurassic Park (1993)\n",
            "Name: title, dtype: object\n",
            "257    Pulp Fiction (1994)\n",
            "Name: title, dtype: object\n",
            "2078    Sixth Sense, The (1999)\n",
            "Name: title, dtype: object\n",
            "325    Mask, The (1994)\n",
            "Name: title, dtype: object\n",
            "1291    Titanic (1997)\n",
            "Name: title, dtype: object\n",
            "1939    Matrix, The (1999)\n",
            "Name: title, dtype: object\n"
          ]
        }
      ],
      "source": [
        "idx=20\n",
        "similarity_idx=similarity_scores[idx]\n",
        "ranked_idx=np.argsort(-similarity_idx)\n",
        "ranked_mid=[idx_to_mid[x] for x in ranked_idx]\n",
        "for mid in ranked_mid [:10]:\n",
        "  print(movies[movies.movieId==mid]['title'])"
      ]
    },
    {
      "cell_type": "markdown",
      "metadata": {
        "id": "QY9ClUWfJwjW"
      },
      "source": [
        "**Q8**. Let's now test our engine! Suppose we have an user that likes **Toy Story** 🧸 (movie_id = 1). Which movies would you recommend to that user? In other words, which movies are the most similar to the movie Toy Story \n",
        "\n",
        "> ⚠️ **Warning**: Remember that your `similarity_scores` works with `idx` and you have the `movie_id` associated to your movie.\n",
        "\n",
        "Retrieve the **top 5 recommendations**."
      ]
    },
    {
      "cell_type": "code",
      "execution_count": 18,
      "metadata": {
        "colab": {
          "base_uri": "https://localhost:8080/"
        },
        "id": "Tfd0xii-JwjX",
        "outputId": "235966fc-6b0c-4c90-e673-e1cece871212"
      },
      "outputs": [
        {
          "output_type": "stream",
          "name": "stdout",
          "text": [
            "0    Toy Story (1995)\n",
            "Name: title, dtype: object\n",
            "615    Independence Day (a.k.a. ID4) (1996)\n",
            "Name: title, dtype: object\n",
            "418    Jurassic Park (1993)\n",
            "Name: title, dtype: object\n",
            "314    Forrest Gump (1994)\n",
            "Name: title, dtype: object\n",
            "322    Lion King, The (1994)\n",
            "Name: title, dtype: object\n"
          ]
        }
      ],
      "source": [
        "idx=mid_to_idx[1]\n",
        "similarity_idx=similarity_scores[idx]\n",
        "ranked_idx=np.argsort(-similarity_idx)\n",
        "ranked_mid=[idx_to_mid[x] for x in ranked_idx]\n",
        "for mid in ranked_mid [:5]:\n",
        "  print(movies[movies.movieId==mid]['title'])"
      ]
    },
    {
      "cell_type": "markdown",
      "metadata": {
        "id": "GHAwOZAdJwjX"
      },
      "source": [
        "As the next step is to **deploy your model**, you need now to: \n",
        "\n",
        "**Q9**. Save your `similarity_scores` into pickle format. Save also `movies` DataFrame into pickle format. Save them at the `data/netflix` directory at the root of the repository."
      ]
    },
    {
      "cell_type": "code",
      "execution_count": 19,
      "metadata": {
        "id": "6ePK6w14JwjX"
      },
      "outputs": [],
      "source": [
        "directory=\"./data\"\n",
        "pickle.dump(similarity_scores, open(directory+\"/similarity_scores.pkl\",\"wb\"))\n",
        "pickle.dump(movies, open(directory+\"/movies.pkl\",\"wb\"))"
      ]
    },
    {
      "cell_type": "markdown",
      "metadata": {
        "id": "qmsB94wzJwjY"
      },
      "source": [
        "**Q10**. Encapsulate the previous code into functions, especially you will need:\n",
        "- `get_sim_scores(mid)` function that returns the vector of the similarity scores `sims` between a movie `mid` and all the other movies\n",
        "- `get_ranked_recos(sims)` that returns for a vector of similarity scores `sims` the list of all ranked recommendations (n_movies) (from most recommended to least recommended) - in the format list of (mid, score, name) tuple."
      ]
    },
    {
      "cell_type": "code",
      "execution_count": 28,
      "metadata": {
        "id": "V_SsL5M9JwjY"
      },
      "outputs": [],
      "source": [
        "def get_movie_name(mid, movies):\n",
        "  try:\n",
        "    name=movies.loc[movies.movieId==mid].title.values[0]\n",
        "  except:\n",
        "    name='Unknown'\n",
        "  return name\n",
        "\n",
        "def get_sims_scores(mid):\n",
        "  idx=mid_to_idx[mid]\n",
        "  sims=similarity_scores[idx]\n",
        "  return sims\n",
        "def get_ranked_recos(sims,movies):\n",
        "  recos=[]\n",
        "  for idx in np.argsort(-sims):\n",
        "    mid=idx_to_mid[idx]\n",
        "    name=get_movie_name(mid,movies)\n",
        "    scores=sims[idx]\n",
        "    recos.append((mid, scores,name))\n",
        "  return recos\n",
        "def get_recommendation(mid, movies,k):\n",
        "  sim_scores=get_sims_scores(mid)\n",
        "  return get_ranked_recos(sim_scores,movies)[:k]\n",
        "\n"
      ]
    },
    {
      "cell_type": "code",
      "execution_count": 29,
      "metadata": {
        "colab": {
          "base_uri": "https://localhost:8080/"
        },
        "id": "sXw9GCSMJwjY",
        "outputId": "0fdcd5d6-fb82-4252-ca9a-de1f891ecfdb"
      },
      "outputs": [
        {
          "output_type": "execute_result",
          "data": {
            "text/plain": [
              "[(3, 1.0000001, 'Grumpier Old Men (1995)'),\n",
              " (880, 0.7566115, 'Island of Dr. Moreau, The (1996)'),\n",
              " (788, 0.6526669, 'Nutty Professor, The (1996)'),\n",
              " (141, 0.63321775, 'Birdcage, The (1996)'),\n",
              " (784, 0.6121417, 'Cable Guy, The (1996)'),\n",
              " (410, 0.6117396, 'Addams Family Values (1993)'),\n",
              " (339, 0.6050837, 'While You Were Sleeping (1995)'),\n",
              " (628, 0.60255796, 'Primal Fear (1996)'),\n",
              " (553, 0.60216796, 'Tombstone (1993)'),\n",
              " (432, 0.59364045, \"City Slickers II: The Legend of Curly's Gold (1994)\")]"
            ]
          },
          "metadata": {},
          "execution_count": 29
        }
      ],
      "source": [
        "get_recommendation(3,movies,10)"
      ]
    },
    {
      "cell_type": "markdown",
      "metadata": {
        "id": "SdTxx0h_JwjZ"
      },
      "source": [
        "If you have extra time, feel free now to improve your recommendation engine!"
      ]
    }
  ],
  "metadata": {
    "kernelspec": {
      "display_name": "Python 3 (ipykernel)",
      "language": "python",
      "name": "python3"
    },
    "language_info": {
      "codemirror_mode": {
        "name": "ipython",
        "version": 3
      },
      "file_extension": ".py",
      "mimetype": "text/x-python",
      "name": "python",
      "nbconvert_exporter": "python",
      "pygments_lexer": "ipython3",
      "version": "3.9.13"
    },
    "toc": {
      "base_numbering": 1,
      "nav_menu": {},
      "number_sections": true,
      "sideBar": true,
      "skip_h1_title": false,
      "title_cell": "Table of Contents",
      "title_sidebar": "Contents",
      "toc_cell": false,
      "toc_position": {},
      "toc_section_display": true,
      "toc_window_display": false
    },
    "colab": {
      "provenance": []
    }
  },
  "nbformat": 4,
  "nbformat_minor": 0
}