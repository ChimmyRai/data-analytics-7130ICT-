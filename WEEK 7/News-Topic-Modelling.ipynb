{
 "cells": [
  {
   "cell_type": "markdown",
   "metadata": {},
   "source": [
    "# Topic Modelling for News"
   ]
  },
  {
   "cell_type": "markdown",
   "metadata": {},
   "source": [
    "![](https://images.unsplash.com/photo-1495020689067-958852a7765e?ixlib=rb-1.2.1&ixid=eyJhcHBfaWQiOjEyMDd9&auto=format&fit=crop&w=1050&q=80)\n",
    "\n",
    "Photo by [Roman Kraft](https://unsplash.com/photos/_Zua2hyvTBk)"
   ]
  },
  {
   "cell_type": "markdown",
   "metadata": {},
   "source": [
    "This exercise is about modelling the main topics of a database of News headlines."
   ]
  },
  {
   "cell_type": "markdown",
   "metadata": {},
   "source": [
    "Begin by importing the needed libraries:"
   ]
  },
  {
   "cell_type": "code",
   "execution_count": 1,
   "metadata": {},
   "outputs": [],
   "source": [
    "# TODO: import needed libraries\n",
    "import nltk \n",
    "import numpy as np \n",
    "import pandas as pd"
   ]
  },
  {
   "cell_type": "markdown",
   "metadata": {},
   "source": [
    "Load the data in the file `random_headlines.csv`"
   ]
  },
  {
   "cell_type": "code",
   "execution_count": 2,
   "metadata": {
    "scrolled": true
   },
   "outputs": [
    {
     "name": "stdout",
     "output_type": "stream",
     "text": [
      "(20000, 2)\n"
     ]
    },
    {
     "data": {
      "text/html": [
       "<div>\n",
       "<style scoped>\n",
       "    .dataframe tbody tr th:only-of-type {\n",
       "        vertical-align: middle;\n",
       "    }\n",
       "\n",
       "    .dataframe tbody tr th {\n",
       "        vertical-align: top;\n",
       "    }\n",
       "\n",
       "    .dataframe thead th {\n",
       "        text-align: right;\n",
       "    }\n",
       "</style>\n",
       "<table border=\"1\" class=\"dataframe\">\n",
       "  <thead>\n",
       "    <tr style=\"text-align: right;\">\n",
       "      <th></th>\n",
       "      <th>publish_date</th>\n",
       "      <th>headline_text</th>\n",
       "    </tr>\n",
       "  </thead>\n",
       "  <tbody>\n",
       "    <tr>\n",
       "      <th>0</th>\n",
       "      <td>20120305</td>\n",
       "      <td>ute driver hurt in intersection crash</td>\n",
       "    </tr>\n",
       "    <tr>\n",
       "      <th>1</th>\n",
       "      <td>20081128</td>\n",
       "      <td>6yo dies in cycling accident</td>\n",
       "    </tr>\n",
       "    <tr>\n",
       "      <th>2</th>\n",
       "      <td>20090325</td>\n",
       "      <td>bumper olive harvest expected</td>\n",
       "    </tr>\n",
       "    <tr>\n",
       "      <th>3</th>\n",
       "      <td>20100201</td>\n",
       "      <td>replica replaces northernmost sign</td>\n",
       "    </tr>\n",
       "    <tr>\n",
       "      <th>4</th>\n",
       "      <td>20080225</td>\n",
       "      <td>woods targets perfect season</td>\n",
       "    </tr>\n",
       "  </tbody>\n",
       "</table>\n",
       "</div>"
      ],
      "text/plain": [
       "   publish_date                          headline_text\n",
       "0      20120305  ute driver hurt in intersection crash\n",
       "1      20081128           6yo dies in cycling accident\n",
       "2      20090325          bumper olive harvest expected\n",
       "3      20100201     replica replaces northernmost sign\n",
       "4      20080225           woods targets perfect season"
      ]
     },
     "execution_count": 2,
     "metadata": {},
     "output_type": "execute_result"
    }
   ],
   "source": [
    "# TODO: load the dataset\n",
    "df=pd.read_csv(\"random_headlines.csv\")\n",
    "print(df.shape)\n",
    "df.head()\n"
   ]
  },
  {
   "cell_type": "markdown",
   "metadata": {},
   "source": [
    "This is always a good idea to perform some EDA (exploratory data analytics) on a dataset..."
   ]
  },
  {
   "cell_type": "code",
   "execution_count": 3,
   "metadata": {},
   "outputs": [
    {
     "name": "stdout",
     "output_type": "stream",
     "text": [
      "<class 'pandas.core.frame.DataFrame'>\n",
      "RangeIndex: 20000 entries, 0 to 19999\n",
      "Data columns (total 2 columns):\n",
      " #   Column         Non-Null Count  Dtype \n",
      "---  ------         --------------  ----- \n",
      " 0   publish_date   20000 non-null  int64 \n",
      " 1   headline_text  20000 non-null  object\n",
      "dtypes: int64(1), object(1)\n",
      "memory usage: 312.6+ KB\n"
     ]
    }
   ],
   "source": [
    "# TODO: Perform a short EDA\n",
    "df.info()"
   ]
  },
  {
   "cell_type": "markdown",
   "metadata": {},
   "source": [
    "Now perform all the needed preprocessing on those headlines: case lowering, tokenization, punctuation removal, stopwords removal, stemming/lemmatization."
   ]
  },
  {
   "cell_type": "code",
   "execution_count": 4,
   "metadata": {},
   "outputs": [
    {
     "data": {
      "text/plain": [
       "0    [ute, driver, hurt, intersect, crash]\n",
       "1                       [die, cycl, accid]\n",
       "2          [bumper, oliv, harvest, expect]\n",
       "3    [replica, replac, northernmost, sign]\n",
       "4          [wood, target, perfect, season]\n",
       "Name: stemmed, dtype: object"
      ]
     },
     "execution_count": 4,
     "metadata": {},
     "output_type": "execute_result"
    }
   ],
   "source": [
    "# TODO: Preprocess the input data\n",
    "df['tokens']=df['headline_text'].apply(lambda row: nltk.word_tokenize(row))\n",
    "df['alphanumeric']=df['tokens'].apply(lambda row: [word for word in row if word.isalpha()])\n",
    "stop=nltk.corpus.stopwords.words(\"english\")\n",
    "df['stop']=df['alphanumeric'].apply(lambda row: [word for word in row if word not in stop])\n",
    "stemmer=nltk.PorterStemmer()\n",
    "df['stemmed']=df['stop'].apply(lambda row: [stemmer.stem(word) for word in row])\n",
    "df['stemmed'].head()"
   ]
  },
  {
   "cell_type": "markdown",
   "metadata": {},
   "source": [
    "Now use Gensim to compute a BOW"
   ]
  },
  {
   "cell_type": "code",
   "execution_count": 5,
   "metadata": {},
   "outputs": [
    {
     "name": "stdout",
     "output_type": "stream",
     "text": [
      "<function shape at 0x000001BEBFCE3430>\n"
     ]
    },
    {
     "data": {
      "text/plain": [
       "[[(0, 1), (1, 1), (2, 1), (3, 1), (4, 1)], [(5, 1), (6, 1), (7, 1)]]"
      ]
     },
     "execution_count": 5,
     "metadata": {},
     "output_type": "execute_result"
    }
   ],
   "source": [
    "# TODO: Compute the BOW using Gensim\n",
    "from gensim.corpora import Dictionary\n",
    "dictionary=Dictionary(df['stemmed'])\n",
    "\n",
    "corpus=[dictionary.doc2bow(line) for line in df['stemmed']]\n",
    "print(np.shape)\n",
    "corpus[0:2]"
   ]
  },
  {
   "cell_type": "markdown",
   "metadata": {},
   "source": [
    "Compute the TF-IDF using Gensim"
   ]
  },
  {
   "cell_type": "code",
   "execution_count": 6,
   "metadata": {},
   "outputs": [
    {
     "name": "stdout",
     "output_type": "stream",
     "text": [
      "(20000,)\n"
     ]
    },
    {
     "name": "stderr",
     "output_type": "stream",
     "text": [
      "C:\\Users\\mohun\\anaconda3\\lib\\site-packages\\numpy\\core\\fromnumeric.py:1970: VisibleDeprecationWarning: Creating an ndarray from ragged nested sequences (which is a list-or-tuple of lists-or-tuples-or ndarrays with different lengths or shapes) is deprecated. If you meant to do this, you must specify 'dtype=object' when creating the ndarray.\n",
      "  result = asarray(a).shape\n"
     ]
    }
   ],
   "source": [
    "# TODO: Compute TF-IDF\n",
    "from gensim.models import TfidfModel\n",
    "tfidf_model=TfidfModel(corpus)\n",
    "tf_idf=tfidf_model[corpus]\n",
    "print(np.shape(tf_idf))"
   ]
  },
  {
   "cell_type": "markdown",
   "metadata": {},
   "source": [
    "Finally compute the **LSA** (also called LSI) using Gensim, for a given number of Topics that you choose yourself"
   ]
  },
  {
   "cell_type": "code",
   "execution_count": 7,
   "metadata": {},
   "outputs": [],
   "source": [
    "# TODO: Compute LSA\n",
    "from gensim.models import LsiModel\n",
    "lsi=LsiModel(corpus=corpus, num_topics=4, id2word=dictionary)"
   ]
  },
  {
   "cell_type": "markdown",
   "metadata": {},
   "source": [
    "For each of the topic, show the most significant words."
   ]
  },
  {
   "cell_type": "code",
   "execution_count": 8,
   "metadata": {},
   "outputs": [
    {
     "data": {
      "text/plain": [
       "[(0, '-0.752*\"polic\" + -0.405*\"man\" + -0.207*\"charg\"'),\n",
       " (1, '0.670*\"man\" + -0.574*\"polic\" + 0.328*\"charg\"'),\n",
       " (2, '-0.653*\"new\" + -0.297*\"plan\" + -0.244*\"say\"'),\n",
       " (3, '-0.703*\"new\" + 0.344*\"say\" + 0.334*\"plan\"')]"
      ]
     },
     "execution_count": 8,
     "metadata": {},
     "output_type": "execute_result"
    }
   ],
   "source": [
    "# TODO: Print the 3 or 4 most significant words of each topic\n",
    "lsi.print_topics(num_words=3)"
   ]
  },
  {
   "cell_type": "markdown",
   "metadata": {},
   "source": [
    "What do you think about those results?"
   ]
  },
  {
   "cell_type": "markdown",
   "metadata": {},
   "source": [
    "News articles frewuently contains information on topics realted to plice charges or new plans proposed by some (may be politicians)"
   ]
  },
  {
   "cell_type": "markdown",
   "metadata": {},
   "source": [
    "Now let's try to use LDA instead of LSA using Gensim"
   ]
  },
  {
   "cell_type": "code",
   "execution_count": 9,
   "metadata": {},
   "outputs": [],
   "source": [
    "# TODO: Compute LDA\n",
    "from gensim.models import LdaModel\n",
    "lda=LdaModel(corpus=corpus, num_topics=4, id2word=dictionary,random_state=0,chunksize=512,passes=5)"
   ]
  },
  {
   "cell_type": "code",
   "execution_count": 10,
   "metadata": {
    "scrolled": true
   },
   "outputs": [
    {
     "data": {
      "text/plain": [
       "[(0, '0.016*\"report\" + 0.009*\"back\" + 0.009*\"may\"'),\n",
       " (1, '0.012*\"mine\" + 0.011*\"polic\" + 0.009*\"elect\"'),\n",
       " (2, '0.013*\"question\" + 0.010*\"council\" + 0.010*\"fund\"'),\n",
       " (3, '0.012*\"sydney\" + 0.012*\"charg\" + 0.011*\"australian\"')]"
      ]
     },
     "execution_count": 10,
     "metadata": {},
     "output_type": "execute_result"
    }
   ],
   "source": [
    "# TODO: print the most frequent words of each topic\n",
    "lda.print_topics(num_words=3)"
   ]
  },
  {
   "cell_type": "markdown",
   "metadata": {},
   "source": [
    "Now, how does it work with LDA?"
   ]
  },
  {
   "cell_type": "markdown",
   "metadata": {},
   "source": [
    "Let's make some visualization of the LDA results using pyLDAvis."
   ]
  },
  {
   "cell_type": "code",
   "execution_count": 17,
   "metadata": {},
   "outputs": [
    {
     "data": {
      "text/html": [
       "\n",
       "<link rel=\"stylesheet\" type=\"text/css\" href=\"/nbextensions/ldavis.v1.0.0.css\">\n",
       "\n",
       "\n",
       "<div id=\"ldavis_el1152419189452960486300136963\" style=\"background-color:white;\"></div>\n",
       "<script type=\"text/javascript\">\n",
       "\n",
       "var ldavis_el1152419189452960486300136963_data = {\"mdsDat\": {\"x\": [0.22849447656453603, 0.1496268208648955, -0.21956875110310395, -0.1585525463263276], \"y\": [-0.028622408990006145, -0.010718913773652793, -0.23570076677010993, 0.2750420895337689], \"topics\": [1, 2, 3, 4], \"cluster\": [1, 1, 1, 1], \"Freq\": [26.894865050870447, 26.669567243748986, 23.917418289763503, 22.51814941561706]}, \"tinfo\": {\"Term\": [\"report\", \"question\", \"mine\", \"sydney\", \"charg\", \"council\", \"australian\", \"fund\", \"interview\", \"elect\", \"back\", \"win\", \"may\", \"labor\", \"trial\", \"union\", \"road\", \"cut\", \"call\", \"govern\", \"final\", \"lead\", \"stori\", \"begin\", \"want\", \"urg\", \"warn\", \"govt\", \"forc\", \"attack\", \"question\", \"council\", \"fund\", \"cut\", \"govern\", \"urg\", \"forc\", \"set\", \"want\", \"aussi\", \"support\", \"concern\", \"farmer\", \"approv\", \"group\", \"doctor\", \"claim\", \"hospit\", \"school\", \"mp\", \"citi\", \"coast\", \"team\", \"figur\", \"ban\", \"reduc\", \"titl\", \"men\", \"job\", \"seek\", \"disput\", \"draw\", \"next\", \"drug\", \"govt\", \"plan\", \"new\", \"say\", \"wa\", \"fear\", \"polic\", \"chang\", \"mine\", \"elect\", \"win\", \"road\", \"final\", \"warn\", \"commun\", \"club\", \"run\", \"rise\", \"station\", \"student\", \"drought\", \"perth\", \"woman\", \"rate\", \"found\", \"search\", \"debat\", \"stage\", \"fall\", \"turnbul\", \"held\", \"record\", \"minist\", \"world\", \"injuri\", \"telstra\", \"countri\", \"review\", \"qld\", \"econom\", \"friday\", \"eye\", \"debt\", \"polic\", \"call\", \"water\", \"help\", \"health\", \"take\", \"trade\", \"futur\", \"miss\", \"hit\", \"sydney\", \"charg\", \"australian\", \"interview\", \"trial\", \"stori\", \"lead\", \"murder\", \"market\", \"open\", \"shoot\", \"accus\", \"leav\", \"day\", \"test\", \"two\", \"busi\", \"success\", \"olymp\", \"bu\", \"risk\", \"point\", \"board\", \"arm\", \"pull\", \"full\", \"second\", \"appoint\", \"hope\", \"fourth\", \"latest\", \"sieg\", \"line\", \"sold\", \"man\", \"melbourn\", \"polic\", \"court\", \"us\", \"report\", \"back\", \"may\", \"labor\", \"union\", \"begin\", \"blaze\", \"car\", \"die\", \"drum\", \"work\", \"news\", \"pole\", \"dead\", \"judg\", \"abc\", \"great\", \"rural\", \"collaps\", \"resid\", \"state\", \"train\", \"garrett\", \"iraq\", \"pakistan\", \"big\", \"fail\", \"deni\", \"former\", \"bid\", \"italian\", \"singapor\", \"lock\", \"sunday\", \"paint\", \"attack\", \"pay\", \"crash\", \"call\", \"kill\", \"man\", \"us\"], \"Freq\": [373.0, 354.0, 336.0, 298.0, 284.0, 284.0, 259.0, 264.0, 229.0, 235.0, 203.0, 229.0, 202.0, 190.0, 195.0, 183.0, 206.0, 206.0, 366.0, 199.0, 195.0, 176.0, 175.0, 167.0, 188.0, 183.0, 179.0, 343.0, 180.0, 230.0, 353.68400703722557, 283.86970215972923, 264.18447740746694, 206.05853089642918, 198.97863355472262, 182.70401661714192, 179.8487913592597, 172.33269546530835, 187.9510551565944, 167.20002268960533, 162.58723167244986, 147.49783772970918, 142.86569665748047, 142.53682281308863, 135.9126925056166, 138.27947663228474, 132.4414391000017, 127.64848442266249, 120.17024062847587, 119.47542460709842, 124.83459324656683, 115.436620980571, 125.00819125061348, 122.95901270917436, 112.60241610124112, 120.00856616434153, 135.0077754878532, 120.30615356510569, 107.58007461565346, 105.93090642585244, 112.26914802123505, 109.14894521635749, 109.46725747690458, 166.9549605379377, 232.09661257451614, 208.72619167625106, 221.35738340344847, 162.21318200226955, 147.63042286802295, 133.9368154676255, 172.3366271498053, 127.50495224123956, 335.923717741775, 234.898394817075, 228.4367409866936, 206.04327045162924, 194.3435328779541, 179.18612745951634, 147.19496928806967, 150.32202068251428, 155.46089018639125, 140.18021550297888, 137.62346442579826, 146.00433471002177, 152.72482214432662, 145.5142135642808, 127.94306215704228, 126.61188150540936, 120.2082502313788, 116.97626388434183, 111.61371322119929, 117.15206433065913, 109.04153278175671, 115.28977470636809, 113.84851173438572, 102.19188336567613, 102.13028058571207, 100.64989634467497, 116.16234272825822, 111.86212467951559, 95.21228202524323, 95.69110189573534, 167.01215677869698, 115.54154979113952, 111.95366883133396, 113.3695262307727, 104.51025015885932, 291.32641385406305, 185.0827684914931, 129.417031299897, 137.6266369371139, 123.07432753233762, 125.74147945510016, 121.00700958639577, 121.69731747025365, 118.85146015105347, 118.57770682524006, 298.19078137635813, 283.693207416753, 258.82906824140133, 229.09304493163248, 194.48182388684089, 175.09545500352147, 175.7129958943008, 163.83397767389545, 152.25384622810813, 146.685706049217, 141.02175710799037, 136.22879379902955, 133.53827579564503, 130.0324406501675, 122.42706454037491, 121.84108283881092, 114.1699488963122, 110.27556551431485, 110.42529455684847, 104.84252883045713, 113.74907591457506, 103.38628134779339, 104.27391496654967, 102.27191746415656, 97.05090551421627, 100.92840095933445, 93.29367091866052, 97.1762853054038, 95.89482454157682, 99.42019850441793, 101.51469116854102, 99.21744042598698, 99.89849961251146, 98.8692381333916, 229.1883166621457, 125.22913662207564, 217.118674997251, 145.11471657593034, 113.42722245989808, 373.12035053749037, 202.49957816064543, 201.5955417278205, 189.42596946987288, 182.63280846550452, 166.63405518805646, 154.34852537966117, 134.56486989128885, 120.6797197133031, 121.41336449184281, 114.2727611452527, 109.07924202593087, 114.70914838283592, 106.28593339627699, 113.38641041731096, 101.1612422208984, 105.97687462767036, 93.40499561454216, 119.83714218072006, 90.94273454959058, 91.33460630858094, 89.97529744661412, 94.84663874799533, 79.61816031303302, 79.38689067581954, 75.23803301014573, 74.04364011889629, 72.5255794643739, 71.78476466010146, 72.00556702794061, 104.86935576913639, 103.57586806612808, 99.89447671431945, 96.71014618618968, 92.92090861086886, 187.21314784477937, 135.0899868696729, 156.63537093133698, 181.23718689256856, 143.09601716318423, 112.85609745628784, 100.29225446599891], \"Total\": [373.0, 354.0, 336.0, 298.0, 284.0, 284.0, 259.0, 264.0, 229.0, 235.0, 203.0, 229.0, 202.0, 190.0, 195.0, 183.0, 206.0, 206.0, 366.0, 199.0, 195.0, 176.0, 175.0, 167.0, 188.0, 183.0, 179.0, 343.0, 180.0, 230.0, 354.4705434235849, 284.5710989088657, 264.92625620217103, 206.77918815137423, 199.69683314530565, 183.4038554351279, 180.5731203389714, 173.04679003499658, 188.7438771346085, 167.93019797658172, 163.31518748949523, 148.2010900036068, 143.56667566368444, 143.26372867631207, 136.61361006068773, 138.99741009488537, 133.149525651863, 128.35763808987778, 120.87716231835891, 120.18334531554501, 125.58529621028843, 116.13255846871148, 125.76195253922066, 123.72391593540232, 113.30920516946514, 120.76300823495002, 135.86355675482926, 121.07746293120559, 108.27835760722373, 106.64278573201656, 113.04501876346252, 109.9413413356162, 110.35417492179467, 205.25034136293962, 343.3619593036324, 322.70493354986706, 442.18943770887415, 329.5367254011786, 254.5837693373204, 184.57153189674747, 698.3829686851221, 169.19900899352447, 336.6718081916548, 235.6204081103863, 229.15420496848404, 206.76196690130115, 195.0619362192486, 179.90383383001492, 147.90491108558433, 151.06342601063517, 156.23822733868244, 140.8836719959437, 138.34431455986672, 146.77429265815988, 153.5333954483987, 146.28841158917663, 128.6584125711634, 127.33684361644637, 120.9214198915756, 117.68499012635706, 112.31926396105729, 117.89565289038623, 109.75323534137381, 116.05211548150741, 114.61858866619362, 102.90092294730479, 102.83903783598767, 101.3572615350407, 116.9971836826972, 112.68378203816748, 95.91306351374372, 96.40395061440525, 168.42840569273775, 116.46049730454384, 112.86726765167798, 114.36734591278157, 105.55480016926849, 698.3829686851221, 366.7961469370417, 180.50109868091266, 224.34280749100685, 164.39044627740785, 195.0356247297415, 161.4761622464534, 176.47138688029494, 166.18739246535213, 182.08665363826213, 298.91700370811674, 284.41044763601894, 259.6008509540795, 229.8019018980749, 195.21707955178073, 175.82875639134593, 176.45351524925925, 164.54834458866773, 152.9782409943635, 147.41325743792947, 141.75071320072763, 136.95549840526078, 134.26390164796015, 130.75010211848564, 123.14829747833055, 122.57190993083849, 114.9015549112601, 111.00608424092262, 111.1715134269015, 105.57611797573614, 114.56808242702895, 104.14483489068945, 105.04018332042425, 103.02626894278353, 97.76972941297728, 101.68883474466101, 94.00448284133897, 97.91921961009434, 96.62843875805076, 100.18604660569976, 102.31842062019153, 99.99324477814405, 100.72642903436535, 99.83733224617187, 385.382166507141, 150.84080677731578, 698.3829686851221, 257.2835643709763, 214.2006473536233, 373.84071868648033, 203.20416671275586, 202.29881030930562, 190.18163885529356, 183.37174127316914, 167.34725940017182, 155.08821661530237, 135.260169216359, 121.36860807826459, 122.11391685713362, 114.97217372045756, 109.76604389551352, 115.43158102074138, 106.98345337305987, 114.13529605114257, 101.8458155451055, 106.69580023538046, 94.09510778358425, 120.72793887798798, 91.64136793137479, 92.04107619313663, 90.68225764584925, 95.62378619409796, 80.3091734400801, 80.09564415516631, 75.94477543549571, 74.74068531621228, 73.2261432013878, 72.48454129069717, 72.7141233837878, 105.95901821925591, 104.65161273445567, 101.04212119909872, 97.95934157373186, 94.84090165300947, 230.04109399401497, 162.44076753069888, 201.38235118235485, 366.7961469370417, 228.64743434042725, 385.382166507141, 214.2006473536233], \"Category\": [\"Default\", \"Default\", \"Default\", \"Default\", \"Default\", \"Default\", \"Default\", \"Default\", \"Default\", \"Default\", \"Default\", \"Default\", \"Default\", \"Default\", \"Default\", \"Default\", \"Default\", \"Default\", \"Default\", \"Default\", \"Default\", \"Default\", \"Default\", \"Default\", \"Default\", \"Default\", \"Default\", \"Default\", \"Default\", \"Default\", \"Topic1\", \"Topic1\", \"Topic1\", \"Topic1\", \"Topic1\", \"Topic1\", \"Topic1\", \"Topic1\", \"Topic1\", \"Topic1\", \"Topic1\", \"Topic1\", \"Topic1\", \"Topic1\", \"Topic1\", \"Topic1\", \"Topic1\", \"Topic1\", \"Topic1\", \"Topic1\", \"Topic1\", \"Topic1\", \"Topic1\", \"Topic1\", \"Topic1\", \"Topic1\", \"Topic1\", \"Topic1\", \"Topic1\", \"Topic1\", \"Topic1\", \"Topic1\", \"Topic1\", \"Topic1\", \"Topic1\", \"Topic1\", \"Topic1\", \"Topic1\", \"Topic1\", \"Topic1\", \"Topic1\", \"Topic1\", \"Topic2\", \"Topic2\", \"Topic2\", \"Topic2\", \"Topic2\", \"Topic2\", \"Topic2\", \"Topic2\", \"Topic2\", \"Topic2\", \"Topic2\", \"Topic2\", \"Topic2\", \"Topic2\", \"Topic2\", \"Topic2\", \"Topic2\", \"Topic2\", \"Topic2\", \"Topic2\", \"Topic2\", \"Topic2\", \"Topic2\", \"Topic2\", \"Topic2\", \"Topic2\", \"Topic2\", \"Topic2\", \"Topic2\", \"Topic2\", \"Topic2\", \"Topic2\", \"Topic2\", \"Topic2\", \"Topic2\", \"Topic2\", \"Topic2\", \"Topic2\", \"Topic2\", \"Topic2\", \"Topic2\", \"Topic2\", \"Topic2\", \"Topic2\", \"Topic2\", \"Topic3\", \"Topic3\", \"Topic3\", \"Topic3\", \"Topic3\", \"Topic3\", \"Topic3\", \"Topic3\", \"Topic3\", \"Topic3\", \"Topic3\", \"Topic3\", \"Topic3\", \"Topic3\", \"Topic3\", \"Topic3\", \"Topic3\", \"Topic3\", \"Topic3\", \"Topic3\", \"Topic3\", \"Topic3\", \"Topic3\", \"Topic3\", \"Topic3\", \"Topic3\", \"Topic3\", \"Topic3\", \"Topic3\", \"Topic3\", \"Topic3\", \"Topic3\", \"Topic3\", \"Topic3\", \"Topic3\", \"Topic3\", \"Topic3\", \"Topic3\", \"Topic3\", \"Topic4\", \"Topic4\", \"Topic4\", \"Topic4\", \"Topic4\", \"Topic4\", \"Topic4\", \"Topic4\", \"Topic4\", \"Topic4\", \"Topic4\", \"Topic4\", \"Topic4\", \"Topic4\", \"Topic4\", \"Topic4\", \"Topic4\", \"Topic4\", \"Topic4\", \"Topic4\", \"Topic4\", \"Topic4\", \"Topic4\", \"Topic4\", \"Topic4\", \"Topic4\", \"Topic4\", \"Topic4\", \"Topic4\", \"Topic4\", \"Topic4\", \"Topic4\", \"Topic4\", \"Topic4\", \"Topic4\", \"Topic4\", \"Topic4\", \"Topic4\", \"Topic4\", \"Topic4\", \"Topic4\", \"Topic4\"], \"logprob\": [30.0, 29.0, 28.0, 27.0, 26.0, 25.0, 24.0, 23.0, 22.0, 21.0, 20.0, 19.0, 18.0, 17.0, 16.0, 15.0, 14.0, 13.0, 12.0, 11.0, 10.0, 9.0, 8.0, 7.0, 6.0, 5.0, 4.0, 3.0, 2.0, 1.0, -4.3569, -4.5768, -4.6486, -4.8971, -4.9321, -5.0174, -5.0332, -5.0759, -4.9891, -5.1061, -5.1341, -5.2315, -5.2634, -5.2657, -5.3133, -5.296, -5.3391, -5.376, -5.4364, -5.4422, -5.3983, -5.4766, -5.3969, -5.4134, -5.5014, -5.4377, -5.32, -5.4353, -5.5471, -5.5625, -5.5044, -5.5326, -5.5297, -5.1076, -4.7781, -4.8843, -4.8255, -5.1364, -5.2306, -5.3279, -5.0758, -5.3771, -4.4, -4.7577, -4.7856, -4.8888, -4.9473, -5.0285, -5.2251, -5.2041, -5.1705, -5.2739, -5.2924, -5.2332, -5.1882, -5.2366, -5.3653, -5.3758, -5.4277, -5.4549, -5.5018, -5.4534, -5.5251, -5.4694, -5.482, -5.59, -5.5906, -5.6052, -5.4619, -5.4996, -5.6608, -5.6558, -5.0988, -5.4672, -5.4988, -5.4862, -5.5676, -4.5424, -4.9961, -5.3538, -5.2923, -5.4041, -5.3826, -5.421, -5.4153, -5.439, -5.4413, -4.4102, -4.4601, -4.5518, -4.6738, -4.8376, -4.9426, -4.9391, -5.0091, -5.0824, -5.1197, -5.159, -5.1936, -5.2136, -5.2402, -5.3004, -5.3052, -5.3703, -5.405, -5.4036, -5.4555, -5.374, -5.4695, -5.4609, -5.4803, -5.5327, -5.4936, -5.5722, -5.5314, -5.5447, -5.5086, -5.4878, -5.5106, -5.5038, -5.5142, -4.6734, -5.2778, -4.7275, -5.1304, -5.3768, -4.1258, -4.7369, -4.7414, -4.8037, -4.8402, -4.9319, -5.0085, -5.1456, -5.2545, -5.2485, -5.3091, -5.3556, -5.3053, -5.3815, -5.3169, -5.431, -5.3845, -5.5107, -5.2615, -5.5374, -5.5331, -5.5481, -5.4954, -5.6704, -5.6733, -5.727, -5.743, -5.7637, -5.774, -5.7709, -5.395, -5.4074, -5.4436, -5.476, -5.5159, -4.8154, -5.1417, -4.9938, -4.8479, -5.0842, -5.3216, -5.4396], \"loglift\": [30.0, 29.0, 28.0, 27.0, 26.0, 25.0, 24.0, 23.0, 22.0, 21.0, 20.0, 19.0, 18.0, 17.0, 16.0, 15.0, 14.0, 13.0, 12.0, 11.0, 10.0, 9.0, 8.0, 7.0, 6.0, 5.0, 4.0, 3.0, 2.0, 1.0, 1.311, 1.3108, 1.3104, 1.3097, 1.3096, 1.3094, 1.3092, 1.3091, 1.309, 1.3089, 1.3088, 1.3085, 1.3083, 1.3081, 1.3081, 1.3081, 1.3079, 1.3077, 1.3074, 1.3073, 1.3072, 1.3072, 1.3072, 1.307, 1.307, 1.307, 1.3069, 1.3068, 1.3068, 1.3065, 1.3063, 1.306, 1.3052, 1.1067, 0.9216, 0.8775, 0.6213, 0.6045, 0.7683, 0.9926, -0.0861, 1.0303, 1.3194, 1.3186, 1.3185, 1.3182, 1.318, 1.3176, 1.3168, 1.3167, 1.3167, 1.3166, 1.3164, 1.3164, 1.3164, 1.3163, 1.3161, 1.3159, 1.3157, 1.3156, 1.3153, 1.3153, 1.3151, 1.3151, 1.3149, 1.3147, 1.3147, 1.3146, 1.3145, 1.3143, 1.3143, 1.3142, 1.3132, 1.3137, 1.3135, 1.3129, 1.3117, 0.4473, 0.6376, 0.989, 0.833, 1.0322, 0.8827, 1.0331, 0.95, 0.9864, 0.8927, 1.4281, 1.428, 1.4276, 1.4275, 1.4268, 1.4264, 1.4264, 1.4262, 1.4258, 1.4256, 1.4254, 1.4252, 1.4251, 1.4251, 1.4247, 1.4246, 1.4242, 1.424, 1.4238, 1.4236, 1.4234, 1.4233, 1.4232, 1.4232, 1.4232, 1.4231, 1.423, 1.4229, 1.4229, 1.4229, 1.4227, 1.4228, 1.4223, 1.4208, 0.9109, 1.2445, 0.2622, 0.8579, 0.7948, 1.4889, 1.4874, 1.4874, 1.4869, 1.4868, 1.4866, 1.4861, 1.4857, 1.4852, 1.4851, 1.4847, 1.4846, 1.4846, 1.4843, 1.4843, 1.4841, 1.4841, 1.4835, 1.4834, 1.4832, 1.4831, 1.483, 1.4827, 1.4822, 1.482, 1.4815, 1.4815, 1.4812, 1.4811, 1.4811, 1.4805, 1.4805, 1.4794, 1.478, 1.4704, 1.2848, 1.3065, 1.2396, 0.7858, 1.0222, 0.2627, 0.732]}, \"token.table\": {\"Topic\": [4, 3, 3, 1, 3, 3, 4, 1, 3, 4, 1, 4, 4, 4, 4, 3, 3, 3, 2, 4, 4, 1, 2, 3, 1, 1, 2, 1, 4, 2, 1, 1, 2, 1, 3, 2, 4, 1, 3, 4, 2, 2, 4, 4, 1, 1, 1, 2, 1, 2, 4, 2, 2, 2, 4, 2, 1, 1, 4, 1, 2, 1, 4, 2, 3, 2, 3, 1, 1, 2, 4, 1, 1, 2, 4, 1, 2, 3, 2, 1, 2, 3, 2, 4, 3, 1, 2, 3, 4, 4, 1, 4, 3, 4, 4, 3, 3, 3, 3, 4, 2, 3, 4, 3, 4, 2, 3, 1, 2, 2, 2, 3, 1, 3, 1, 2, 3, 4, 4, 1, 3, 3, 1, 2, 3, 4, 4, 2, 4, 2, 1, 2, 3, 4, 1, 2, 3, 4, 3, 2, 4, 1, 2, 2, 1, 4, 4, 2, 2, 3, 2, 2, 4, 1, 2, 3, 4, 1, 2, 3, 1, 1, 3, 3, 3, 4, 3, 2, 4, 2, 3, 2, 3, 2, 4, 1, 3, 2, 3, 1, 2, 3, 1, 1, 2, 4, 3, 2, 3, 4, 1, 3, 4, 1, 2, 1, 2, 1, 2, 2, 2, 4, 2], \"Freq\": [0.9916951370011771, 0.9930232928477731, 0.9906124700160541, 0.9981591385429599, 0.9900387643528712, 0.18257607486900893, 0.812898238107254, 0.9944608058122373, 0.9976854815696049, 0.9940741042261302, 0.997271138130369, 0.9979249173161454, 0.9901790278070379, 0.9875597046659494, 0.9929832411575039, 0.9900972819397014, 0.9945431032435902, 0.9921536752748351, 0.5043673483073804, 0.4934621083439776, 0.9980765274961113, 0.7565056128957515, 0.2423182041306704, 0.9985568475439967, 0.9953394527229655, 0.9913666560490152, 0.9929604005501617, 0.9902477093104204, 0.9939704190699084, 0.9938818050128119, 0.9918955386658926, 0.9979931239993961, 0.9904803008026859, 0.4353173521745352, 0.5635805005831036, 0.21848985147738847, 0.7796115154988634, 0.9962317863884647, 0.9942630857924233, 0.9908074254283932, 0.997157531577415, 0.9947439607826569, 0.9969117149763596, 0.9969629042954263, 0.9907557292228051, 0.9928242541051341, 0.9914377856029373, 0.9965258669174814, 0.8136405469099689, 0.1851397651651426, 0.9908780515292386, 0.99604589268291, 0.9973669169179282, 0.988044262967995, 0.9900899314332134, 0.9931370101388723, 0.9960528746586574, 0.7260057855236415, 0.27089768116553786, 0.9941489409712809, 0.9945559023978159, 0.9968261038082771, 0.9933152465054041, 0.992380010982324, 0.9881615589607238, 0.9923160392758468, 0.9932260533185314, 0.9965037206373981, 0.3059986151558359, 0.691330204611333, 0.9934766628793406, 0.996510544837741, 0.6756718201122687, 0.32327401738130096, 0.9934786539503386, 0.9955084265732005, 0.74821866346441, 0.24940622115480335, 0.9946030685476756, 0.37442698047436745, 0.6151300393507465, 0.008914928106532558, 0.6535349934894644, 0.34598911420030465, 0.9934963374537767, 0.9972137373731716, 0.991476857379733, 0.9965104644850564, 0.9961502101586094, 0.9909491590675986, 0.9974292405853304, 0.9900530678026729, 0.37175138328228824, 0.625417033051379, 0.9937867879233461, 0.9968879443382583, 0.9974298315983186, 0.9980344556897199, 0.9927880989991463, 0.9896862695801362, 0.1115775553127553, 0.5942153527121155, 0.29321543605445, 0.9936053585921443, 0.9985229260179594, 0.16573764443534938, 0.8286882221767469, 0.9911010446938603, 0.9980045605978616, 0.991841251594304, 0.7160591320115328, 0.2828132706264037, 0.9901538327757635, 0.9966675776043906, 0.4997857957554847, 0.1718720383593522, 0.12211960620269761, 0.2057941511934349, 0.9930211213930356, 0.987728829264916, 0.9894621077757316, 0.9971966060236918, 0.010543973987706899, 0.010543973987706899, 0.010543973987706899, 0.9805895808567415, 0.9863208022518208, 0.16621443256168686, 0.8310721628084342, 0.998028472754311, 0.6476504641590909, 0.3532638895413223, 0.9890072811398561, 0.996261152997083, 0.24628321094919073, 0.4166768278268285, 0.3107177719533395, 0.025773824401659495, 0.9921271193282538, 0.9915192114604257, 0.005937240787188177, 0.9986725457663131, 0.9973547042090898, 0.9912447534822778, 0.9936817718761564, 0.9977511313121956, 0.9930013273933769, 0.9958098126494737, 0.993727647899686, 0.9950415297612162, 0.9963147627548693, 0.9920747479040563, 0.9883616926599099, 0.4915992285921422, 0.2640069931328171, 0.11834796243884906, 0.12745165185722204, 0.9927433577895493, 0.9941794605614395, 0.9893145219145097, 0.9939725343106488, 0.9939508266244934, 0.9947039899569001, 0.9900668812143484, 0.009555514471978685, 0.9937735050857832, 0.9916130346501323, 0.9924030032623937, 0.9886890045597461, 0.9975111766539728, 0.9952865708183629, 0.9947246030341075, 0.9909366747975809, 0.010208316878562539, 0.9902067372205663, 0.9980700662667059, 0.9969322464204406, 0.6460358212741732, 0.353781521173952, 0.9939413111530451, 0.9939318504775082, 0.990675490430287, 0.9936439412050165, 0.24771458179040629, 0.7493366099159791, 0.9924763932486801, 0.9937655068164366, 0.990934111996648, 0.9953340864871797, 0.9979727450337326, 0.9977979992068883, 0.5275427567380251, 0.46685199711329656, 0.5813410665779789, 0.41636589903557947, 0.9960588012395337, 0.9949760168487075, 0.28254675662754325, 0.7146770902931977, 0.9949631953354607, 0.9948824755567443, 0.9915442694610498, 0.9964752250639961], \"Term\": [\"abc\", \"accus\", \"appoint\", \"approv\", \"arm\", \"attack\", \"attack\", \"aussi\", \"australian\", \"back\", \"ban\", \"begin\", \"bid\", \"big\", \"blaze\", \"board\", \"bu\", \"busi\", \"call\", \"call\", \"car\", \"chang\", \"chang\", \"charg\", \"citi\", \"claim\", \"club\", \"coast\", \"collaps\", \"commun\", \"concern\", \"council\", \"countri\", \"court\", \"court\", \"crash\", \"crash\", \"cut\", \"day\", \"dead\", \"debat\", \"debt\", \"deni\", \"die\", \"disput\", \"doctor\", \"draw\", \"drought\", \"drug\", \"drug\", \"drum\", \"econom\", \"elect\", \"eye\", \"fail\", \"fall\", \"farmer\", \"fear\", \"fear\", \"figur\", \"final\", \"forc\", \"former\", \"found\", \"fourth\", \"friday\", \"full\", \"fund\", \"futur\", \"futur\", \"garrett\", \"govern\", \"govt\", \"govt\", \"great\", \"group\", \"health\", \"health\", \"held\", \"help\", \"help\", \"help\", \"hit\", \"hit\", \"hope\", \"hospit\", \"injuri\", \"interview\", \"iraq\", \"italian\", \"job\", \"judg\", \"kill\", \"kill\", \"labor\", \"latest\", \"lead\", \"leav\", \"line\", \"lock\", \"man\", \"man\", \"man\", \"market\", \"may\", \"melbourn\", \"melbourn\", \"men\", \"mine\", \"minist\", \"miss\", \"miss\", \"mp\", \"murder\", \"new\", \"new\", \"new\", \"new\", \"news\", \"next\", \"olymp\", \"open\", \"paint\", \"paint\", \"paint\", \"paint\", \"pakistan\", \"pay\", \"pay\", \"perth\", \"plan\", \"plan\", \"point\", \"pole\", \"polic\", \"polic\", \"polic\", \"polic\", \"pull\", \"qld\", \"qld\", \"question\", \"rate\", \"record\", \"reduc\", \"report\", \"resid\", \"review\", \"rise\", \"risk\", \"road\", \"run\", \"rural\", \"say\", \"say\", \"say\", \"say\", \"school\", \"search\", \"second\", \"seek\", \"set\", \"shoot\", \"sieg\", \"singapor\", \"singapor\", \"sold\", \"stage\", \"state\", \"station\", \"stori\", \"student\", \"success\", \"sunday\", \"sunday\", \"support\", \"sydney\", \"take\", \"take\", \"team\", \"telstra\", \"test\", \"titl\", \"trade\", \"trade\", \"train\", \"trial\", \"turnbul\", \"two\", \"union\", \"urg\", \"us\", \"us\", \"wa\", \"wa\", \"want\", \"warn\", \"water\", \"water\", \"win\", \"woman\", \"work\", \"world\"]}, \"R\": 30, \"lambda.step\": 0.01, \"plot.opts\": {\"xlab\": \"PC1\", \"ylab\": \"PC2\"}, \"topic.order\": [3, 2, 4, 1]};\n",
       "\n",
       "function LDAvis_load_lib(url, callback){\n",
       "  var s = document.createElement('script');\n",
       "  s.src = url;\n",
       "  s.async = true;\n",
       "  s.onreadystatechange = s.onload = callback;\n",
       "  s.onerror = function(){console.warn(\"failed to load library \" + url);};\n",
       "  document.getElementsByTagName(\"head\")[0].appendChild(s);\n",
       "}\n",
       "\n",
       "if(typeof(LDAvis) !== \"undefined\"){\n",
       "   // already loaded: just create the visualization\n",
       "   !function(LDAvis){\n",
       "       new LDAvis(\"#\" + \"ldavis_el1152419189452960486300136963\", ldavis_el1152419189452960486300136963_data);\n",
       "   }(LDAvis);\n",
       "}else if(typeof define === \"function\" && define.amd){\n",
       "   // require.js is available: use it to load d3/LDAvis\n",
       "   require.config({paths: {d3: \"/nbextensions/d3.v5.min\"}});\n",
       "   require([\"d3\"], function(d3){\n",
       "      window.d3 = d3;\n",
       "      LDAvis_load_lib(\"/nbextensions/ldavis.v3.0.0.js\", function(){\n",
       "        new LDAvis(\"#\" + \"ldavis_el1152419189452960486300136963\", ldavis_el1152419189452960486300136963_data);\n",
       "      });\n",
       "    });\n",
       "}else{\n",
       "    // require.js not available: dynamically load d3 & LDAvis\n",
       "    LDAvis_load_lib(\"/nbextensions/d3.v5.min.js\", function(){\n",
       "         LDAvis_load_lib(\"/nbextensions/ldavis.v3.0.0.js\", function(){\n",
       "                 new LDAvis(\"#\" + \"ldavis_el1152419189452960486300136963\", ldavis_el1152419189452960486300136963_data);\n",
       "            })\n",
       "         });\n",
       "}\n",
       "</script>"
      ],
      "text/plain": [
       "PreparedData(topic_coordinates=              x         y  topics  cluster       Freq\n",
       "topic                                                \n",
       "2      0.228494 -0.028622       1        1  26.894865\n",
       "1      0.149627 -0.010719       2        1  26.669567\n",
       "3     -0.219569 -0.235701       3        1  23.917418\n",
       "0     -0.158553  0.275042       4        1  22.518149, topic_info=          Term        Freq       Total Category  logprob  loglift\n",
       "1133    report  373.000000  373.000000  Default  30.0000  30.0000\n",
       "647   question  354.000000  354.000000  Default  29.0000  29.0000\n",
       "1043      mine  336.000000  336.000000  Default  28.0000  28.0000\n",
       "886     sydney  298.000000  298.000000  Default  27.0000  27.0000\n",
       "86       charg  284.000000  284.000000  Default  26.0000  26.0000\n",
       "...        ...         ...         ...      ...      ...      ...\n",
       "0        crash  156.635371  201.382351   Topic4  -4.9938   1.2396\n",
       "177       call  181.237187  366.796147   Topic4  -4.8479   0.7858\n",
       "688       kill  143.096017  228.647434   Topic4  -5.0842   1.0222\n",
       "139        man  112.856097  385.382167   Topic4  -5.3216   0.2627\n",
       "124         us  100.292254  214.200647   Topic4  -5.4396   0.7320\n",
       "\n",
       "[198 rows x 6 columns], token_table=      Topic      Freq     Term\n",
       "term                          \n",
       "496       4  0.991695      abc\n",
       "101       3  0.993023    accus\n",
       "833       3  0.990612  appoint\n",
       "68        1  0.998159   approv\n",
       "1411      3  0.990039      arm\n",
       "...     ...       ...      ...\n",
       "600       2  0.714677    water\n",
       "500       2  0.994963      win\n",
       "241       2  0.994882    woman\n",
       "279       4  0.991544     work\n",
       "151       2  0.996475    world\n",
       "\n",
       "[203 rows x 3 columns], R=30, lambda_step=0.01, plot_opts={'xlab': 'PC1', 'ylab': 'PC2'}, topic_order=[3, 2, 4, 1])"
      ]
     },
     "execution_count": 17,
     "metadata": {},
     "output_type": "execute_result"
    }
   ],
   "source": [
    "# TODO: show visualization results of the LDA\n",
    "import pyLDAvis\n",
    "import pyLDAvis.gensim\n",
    "pyLDAvis.enable_notebook(local=True)\n",
    "vis=pyLDAvis.gensim.prepare(lda, corpus, dictionary)\n",
    "vis"
   ]
  },
  {
   "cell_type": "markdown",
   "metadata": {},
   "source": [
    "Depending on your results, you can try to fine tune the algorithm: number of topics, hyperparameters...\n",
    "And check with others their results."
   ]
  }
 ],
 "metadata": {
  "kernelspec": {
   "display_name": "Python 3 (ipykernel)",
   "language": "python",
   "name": "python3"
  },
  "language_info": {
   "codemirror_mode": {
    "name": "ipython",
    "version": 3
   },
   "file_extension": ".py",
   "mimetype": "text/x-python",
   "name": "python",
   "nbconvert_exporter": "python",
   "pygments_lexer": "ipython3",
   "version": "3.9.13"
  },
  "toc": {
   "base_numbering": 1,
   "nav_menu": {},
   "number_sections": true,
   "sideBar": true,
   "skip_h1_title": false,
   "title_cell": "Table of Contents",
   "title_sidebar": "Contents",
   "toc_cell": false,
   "toc_position": {},
   "toc_section_display": true,
   "toc_window_display": false
  }
 },
 "nbformat": 4,
 "nbformat_minor": 2
}
